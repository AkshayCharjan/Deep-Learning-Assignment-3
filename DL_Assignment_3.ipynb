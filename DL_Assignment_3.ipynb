{
  "cells": [
    {
      "cell_type": "markdown",
      "metadata": {
        "id": "u-cN-1QgMzV0"
      },
      "source": []
    },
    {
      "cell_type": "code",
      "execution_count": 1,
      "metadata": {
        "colab": {
          "base_uri": "https://localhost:8080/"
        },
        "id": "iMo3bJHwIx11",
        "outputId": "d73ccb70-8234-4dd7-9b34-b7204223f659"
      },
      "outputs": [
        {
          "output_type": "stream",
          "name": "stdout",
          "text": [
            "Looking in indexes: https://pypi.org/simple, https://us-python.pkg.dev/colab-wheels/public/simple/\n",
            "Requirement already satisfied: pytorch_lightning in /usr/local/lib/python3.10/dist-packages (2.0.2)\n",
            "Requirement already satisfied: tqdm>=4.57.0 in /usr/local/lib/python3.10/dist-packages (from pytorch_lightning) (4.65.0)\n",
            "Requirement already satisfied: torch>=1.11.0 in /usr/local/lib/python3.10/dist-packages (from pytorch_lightning) (2.0.0+cu118)\n",
            "Requirement already satisfied: packaging>=17.1 in /usr/local/lib/python3.10/dist-packages (from pytorch_lightning) (23.1)\n",
            "Requirement already satisfied: fsspec[http]>2021.06.0 in /usr/local/lib/python3.10/dist-packages (from pytorch_lightning) (2023.4.0)\n",
            "Requirement already satisfied: lightning-utilities>=0.7.0 in /usr/local/lib/python3.10/dist-packages (from pytorch_lightning) (0.8.0)\n",
            "Requirement already satisfied: torchmetrics>=0.7.0 in /usr/local/lib/python3.10/dist-packages (from pytorch_lightning) (0.11.4)\n",
            "Requirement already satisfied: typing-extensions>=4.0.0 in /usr/local/lib/python3.10/dist-packages (from pytorch_lightning) (4.5.0)\n",
            "Requirement already satisfied: PyYAML>=5.4 in /usr/local/lib/python3.10/dist-packages (from pytorch_lightning) (6.0)\n",
            "Requirement already satisfied: numpy>=1.17.2 in /usr/local/lib/python3.10/dist-packages (from pytorch_lightning) (1.22.4)\n",
            "Requirement already satisfied: aiohttp!=4.0.0a0,!=4.0.0a1 in /usr/local/lib/python3.10/dist-packages (from fsspec[http]>2021.06.0->pytorch_lightning) (3.8.4)\n",
            "Requirement already satisfied: requests in /usr/local/lib/python3.10/dist-packages (from fsspec[http]>2021.06.0->pytorch_lightning) (2.27.1)\n",
            "Requirement already satisfied: jinja2 in /usr/local/lib/python3.10/dist-packages (from torch>=1.11.0->pytorch_lightning) (3.1.2)\n",
            "Requirement already satisfied: filelock in /usr/local/lib/python3.10/dist-packages (from torch>=1.11.0->pytorch_lightning) (3.12.0)\n",
            "Requirement already satisfied: triton==2.0.0 in /usr/local/lib/python3.10/dist-packages (from torch>=1.11.0->pytorch_lightning) (2.0.0)\n",
            "Requirement already satisfied: networkx in /usr/local/lib/python3.10/dist-packages (from torch>=1.11.0->pytorch_lightning) (3.1)\n",
            "Requirement already satisfied: sympy in /usr/local/lib/python3.10/dist-packages (from torch>=1.11.0->pytorch_lightning) (1.11.1)\n",
            "Requirement already satisfied: cmake in /usr/local/lib/python3.10/dist-packages (from triton==2.0.0->torch>=1.11.0->pytorch_lightning) (3.25.2)\n",
            "Requirement already satisfied: lit in /usr/local/lib/python3.10/dist-packages (from triton==2.0.0->torch>=1.11.0->pytorch_lightning) (16.0.2)\n",
            "Requirement already satisfied: frozenlist>=1.1.1 in /usr/local/lib/python3.10/dist-packages (from aiohttp!=4.0.0a0,!=4.0.0a1->fsspec[http]>2021.06.0->pytorch_lightning) (1.3.3)\n",
            "Requirement already satisfied: yarl<2.0,>=1.0 in /usr/local/lib/python3.10/dist-packages (from aiohttp!=4.0.0a0,!=4.0.0a1->fsspec[http]>2021.06.0->pytorch_lightning) (1.9.2)\n",
            "Requirement already satisfied: async-timeout<5.0,>=4.0.0a3 in /usr/local/lib/python3.10/dist-packages (from aiohttp!=4.0.0a0,!=4.0.0a1->fsspec[http]>2021.06.0->pytorch_lightning) (4.0.2)\n",
            "Requirement already satisfied: aiosignal>=1.1.2 in /usr/local/lib/python3.10/dist-packages (from aiohttp!=4.0.0a0,!=4.0.0a1->fsspec[http]>2021.06.0->pytorch_lightning) (1.3.1)\n",
            "Requirement already satisfied: attrs>=17.3.0 in /usr/local/lib/python3.10/dist-packages (from aiohttp!=4.0.0a0,!=4.0.0a1->fsspec[http]>2021.06.0->pytorch_lightning) (23.1.0)\n",
            "Requirement already satisfied: charset-normalizer<4.0,>=2.0 in /usr/local/lib/python3.10/dist-packages (from aiohttp!=4.0.0a0,!=4.0.0a1->fsspec[http]>2021.06.0->pytorch_lightning) (2.0.12)\n",
            "Requirement already satisfied: multidict<7.0,>=4.5 in /usr/local/lib/python3.10/dist-packages (from aiohttp!=4.0.0a0,!=4.0.0a1->fsspec[http]>2021.06.0->pytorch_lightning) (6.0.4)\n",
            "Requirement already satisfied: MarkupSafe>=2.0 in /usr/local/lib/python3.10/dist-packages (from jinja2->torch>=1.11.0->pytorch_lightning) (2.1.2)\n",
            "Requirement already satisfied: urllib3<1.27,>=1.21.1 in /usr/local/lib/python3.10/dist-packages (from requests->fsspec[http]>2021.06.0->pytorch_lightning) (1.26.15)\n",
            "Requirement already satisfied: certifi>=2017.4.17 in /usr/local/lib/python3.10/dist-packages (from requests->fsspec[http]>2021.06.0->pytorch_lightning) (2022.12.7)\n",
            "Requirement already satisfied: idna<4,>=2.5 in /usr/local/lib/python3.10/dist-packages (from requests->fsspec[http]>2021.06.0->pytorch_lightning) (3.4)\n",
            "Requirement already satisfied: mpmath>=0.19 in /usr/local/lib/python3.10/dist-packages (from sympy->torch>=1.11.0->pytorch_lightning) (1.3.0)\n",
            "Looking in indexes: https://pypi.org/simple, https://us-python.pkg.dev/colab-wheels/public/simple/\n",
            "Requirement already satisfied: wandb in /usr/local/lib/python3.10/dist-packages (0.15.0)\n",
            "Requirement already satisfied: docker-pycreds>=0.4.0 in /usr/local/lib/python3.10/dist-packages (from wandb) (0.4.0)\n",
            "Requirement already satisfied: GitPython!=3.1.29,>=1.0.0 in /usr/local/lib/python3.10/dist-packages (from wandb) (3.1.31)\n",
            "Requirement already satisfied: setproctitle in /usr/local/lib/python3.10/dist-packages (from wandb) (1.3.2)\n",
            "Requirement already satisfied: sentry-sdk>=1.0.0 in /usr/local/lib/python3.10/dist-packages (from wandb) (1.21.1)\n",
            "Requirement already satisfied: appdirs>=1.4.3 in /usr/local/lib/python3.10/dist-packages (from wandb) (1.4.4)\n",
            "Requirement already satisfied: requests<3,>=2.0.0 in /usr/local/lib/python3.10/dist-packages (from wandb) (2.27.1)\n",
            "Requirement already satisfied: PyYAML in /usr/local/lib/python3.10/dist-packages (from wandb) (6.0)\n",
            "Requirement already satisfied: Click!=8.0.0,>=7.0 in /usr/local/lib/python3.10/dist-packages (from wandb) (8.1.3)\n",
            "Requirement already satisfied: setuptools in /usr/local/lib/python3.10/dist-packages (from wandb) (67.7.2)\n",
            "Requirement already satisfied: pathtools in /usr/local/lib/python3.10/dist-packages (from wandb) (0.1.2)\n",
            "Requirement already satisfied: psutil>=5.0.0 in /usr/local/lib/python3.10/dist-packages (from wandb) (5.9.5)\n",
            "Requirement already satisfied: protobuf!=4.21.0,<5,>=3.19.0 in /usr/local/lib/python3.10/dist-packages (from wandb) (3.20.3)\n",
            "Requirement already satisfied: six>=1.4.0 in /usr/local/lib/python3.10/dist-packages (from docker-pycreds>=0.4.0->wandb) (1.16.0)\n",
            "Requirement already satisfied: gitdb<5,>=4.0.1 in /usr/local/lib/python3.10/dist-packages (from GitPython!=3.1.29,>=1.0.0->wandb) (4.0.10)\n",
            "Requirement already satisfied: charset-normalizer~=2.0.0 in /usr/local/lib/python3.10/dist-packages (from requests<3,>=2.0.0->wandb) (2.0.12)\n",
            "Requirement already satisfied: idna<4,>=2.5 in /usr/local/lib/python3.10/dist-packages (from requests<3,>=2.0.0->wandb) (3.4)\n",
            "Requirement already satisfied: certifi>=2017.4.17 in /usr/local/lib/python3.10/dist-packages (from requests<3,>=2.0.0->wandb) (2022.12.7)\n",
            "Requirement already satisfied: urllib3<1.27,>=1.21.1 in /usr/local/lib/python3.10/dist-packages (from requests<3,>=2.0.0->wandb) (1.26.15)\n",
            "Requirement already satisfied: smmap<6,>=3.0.1 in /usr/local/lib/python3.10/dist-packages (from gitdb<5,>=4.0.1->GitPython!=3.1.29,>=1.0.0->wandb) (5.0.0)\n"
          ]
        }
      ],
      "source": [
        "!pip install pytorch_lightning\n",
        "!pip install wandb"
      ]
    },
    {
      "cell_type": "code",
      "execution_count": 2,
      "metadata": {
        "id": "jSPOFSIqL2O0",
        "colab": {
          "base_uri": "https://localhost:8080/"
        },
        "outputId": "1b587d9a-9357-4539-8c5b-83d1a33b9716"
      },
      "outputs": [
        {
          "output_type": "stream",
          "name": "stdout",
          "text": [
            "Drive already mounted at /content/drive; to attempt to forcibly remount, call drive.mount(\"/content/drive\", force_remount=True).\n"
          ]
        }
      ],
      "source": [
        "import torch\n",
        "import torch.utils.data as data\n",
        "import zipfile\n",
        "import wandb\n",
        "\n",
        "\n",
        "# Mount Google Drive to access the dataset\n",
        "from google.colab import drive\n",
        "drive.mount('/content/drive')"
      ]
    },
    {
      "cell_type": "code",
      "execution_count": 3,
      "metadata": {
        "id": "EZZkPwdpiZUM"
      },
      "outputs": [],
      "source": [
        "# Set the path to your zipped dataset\n",
        "zip_file_path = '/content/drive/MyDrive/M.Tech IITM/Deep Learning /aksharantar_sampled.zip'\n",
        "\n",
        "# Extract the dataset to a folder in Google Drive\n",
        "zip_ref = zipfile.ZipFile(zip_file_path, 'r')\n",
        "zip_ref.extractall('aksharantar_sampled_extracted')\n",
        "zip_ref.close()"
      ]
    },
    {
      "cell_type": "markdown",
      "metadata": {
        "id": "sK3Uwyah0bEO"
      },
      "source": []
    },
    {
      "cell_type": "code",
      "execution_count": 4,
      "metadata": {
        "id": "XHS4uGrK1Zjm"
      },
      "outputs": [],
      "source": [
        "import torch\n",
        "import torch.nn as nn\n",
        "from google.colab import drive\n",
        "import csv\n",
        "# from pytorch_lightning.loggers import WandbLogger\n",
        "# move tensors to GPU\n",
        "device = torch.device(\"cuda:0\" if torch.cuda.is_available() else \"cpu\")\n",
        "\n",
        "\n",
        "\n",
        "# Path to your CSV file on Google Drive (Extracted file)\n",
        "csv_file_path = '/content/aksharantar_sampled_extracted/aksharantar_sampled/hin/hin_train.csv'\n",
        "\n",
        "# Read the CSV file and extract the sequence of characters\n",
        "with open(csv_file_path, 'r') as f:\n",
        "    reader = csv.reader(f)\n",
        "    chars = []\n",
        "    for row in reader:\n",
        "        chars.extend(row[0])  # assuming the first column of the CSV file contains the text data\n",
        "\n",
        "charS=set(chars)\n",
        "charS.add('|')\n",
        "char_set = list(charS)\n",
        "\n",
        "\n",
        "# Define the mapping between characters and integer indices\n",
        "char_to_idx_latin= {char: i+1 for i, char in enumerate(char_set)}\n"
      ]
    },
    {
      "cell_type": "code",
      "execution_count": 5,
      "metadata": {
        "id": "ItFlnDR47NaJ"
      },
      "outputs": [],
      "source": [
        "max_length_devanagari=0\n",
        "with open(csv_file_path, 'r') as f:\n",
        "    reader = csv.reader(f)\n",
        "    chars = []\n",
        "\n",
        "    for row in reader:\n",
        "        chars.extend(row[1])  # assuming the first column of the CSV file contains the text data\n",
        "\n",
        "# Define the character set\n",
        "charS=set(chars)\n",
        "charS.add('|')\n",
        "char_set = list(charS)\n",
        "\n",
        "# Define the mapping between characters and integer indices\n",
        "char_to_idx_lang ={char: i+1 for i, char in enumerate(char_set)}"
      ]
    },
    {
      "cell_type": "code",
      "execution_count": 6,
      "metadata": {
        "id": "20RFt8fA4SFp"
      },
      "outputs": [],
      "source": [
        "\n",
        "max_length_latin = 0\n",
        "\n",
        "# Read the CSV file and extract the sequence of characters\n",
        "with open(csv_file_path, 'r') as f:\n",
        "    reader = csv.reader(f)\n",
        "    chars = []\n",
        "\n",
        "    for row in reader:\n",
        "        length = len(row[0])  # assuming the column you want to check is the first one\n",
        "        if length > max_length_latin:\n",
        "            max_length_latin = length"
      ]
    },
    {
      "cell_type": "code",
      "execution_count": 7,
      "metadata": {
        "id": "7Yn_4Clu0mfs"
      },
      "outputs": [],
      "source": [
        "# max_length_latin"
      ]
    },
    {
      "cell_type": "code",
      "execution_count": 8,
      "metadata": {
        "id": "fV1YKBGW4-Sh"
      },
      "outputs": [],
      "source": [
        "max_length_devanagari = 0\n",
        "# Read the CSV file and extract the sequence of characters\n",
        "with open(csv_file_path, 'r') as f:\n",
        "    reader = csv.reader(f)\n",
        "    chars = []\n",
        "\n",
        "    for row in reader:\n",
        "        length = len(row[1])  # assuming the column you want to check is the first one\n",
        "        if length > max_length_devanagari:\n",
        "            max_length_devanagari = length"
      ]
    },
    {
      "cell_type": "code",
      "execution_count": 9,
      "metadata": {
        "id": "yZWe8Duz1xOa"
      },
      "outputs": [],
      "source": [
        "# char_to_idx_lang=char_to_idx_lang.to(device)\n",
        "# char_to_idx_latin=char_to_idx_latin.to(device)"
      ]
    },
    {
      "cell_type": "code",
      "execution_count": 10,
      "metadata": {
        "id": "l34YGvNz4meS"
      },
      "outputs": [],
      "source": [
        "# char_set"
      ]
    },
    {
      "cell_type": "code",
      "execution_count": 11,
      "metadata": {
        "id": "uH15-PEi3ksM"
      },
      "outputs": [],
      "source": [
        "# char_to_idx_latin"
      ]
    },
    {
      "cell_type": "code",
      "execution_count": 12,
      "metadata": {
        "id": "sI7s-Oxt4ILm"
      },
      "outputs": [],
      "source": [
        "# max_length_devanagari"
      ]
    },
    {
      "cell_type": "code",
      "execution_count": 13,
      "metadata": {
        "id": "4Mph9nZxUrO-"
      },
      "outputs": [],
      "source": [
        "def word_to_indices(word, max_length,dict):\n",
        "    # Convert the characters to integer indices using the char_to_idx mapping\n",
        "    indices = [dict.get(c, -1) for c in word]\n",
        "    # Filter out characters not in the dictionary\n",
        "    indices = [idx for idx in indices if idx >= 0]\n",
        "    # Add padding if necessary to make the sequence length equal to max_length\n",
        "    if len(indices) < max_length:\n",
        "        indices += [0] * (max_length - len(indices))\n",
        "    # Truncate the sequence if necessary to make the sequence length equal to max_length\n",
        "    elif len(indices) > max_length:\n",
        "        indices = indices[:max_length]\n",
        "    # Add the start and end tokens to the sequence\n",
        "    indices = [dict['|']] + indices + [dict['|']]\n",
        "    # Convert the list of indices to a tensor\n",
        "    tensor = torch.tensor(indices)\n",
        "    tensor=tensor.to(device)\n",
        "    return tensor\n",
        "pairs=[]\n",
        "\n",
        "# Read the CSV file containing Latin-Devanagari word pairs\n",
        "with open('/content/aksharantar_sampled_extracted/aksharantar_sampled/hin/hin_train.csv', 'r') as f:\n",
        "    reader = csv.reader(f)\n",
        "    for row in reader:\n",
        "        latin_word = row[0]\n",
        "        devanagari_word = row[1]\n",
        "        # Convert the Latin word to a tensor of integer indices\n",
        "        latin_indices = word_to_indices(latin_word, max_length_latin,char_to_idx_latin)\n",
        "        devanagari_indices= word_to_indices(devanagari_word,max_length_devanagari ,char_to_idx_lang)\n",
        "        pairs.append([latin_indices,devanagari_indices])\n",
        "        # print(devanagari_word, devanagari_indices)\n",
        "        # print(latin_word,latin_indices)\n",
        "        # print('**************************************************')\n",
        "\n",
        "pairs_v=[]\n",
        "\n",
        "# Read the CSV file containing Latin-Devanagari word pairs\n",
        "with open('/content/aksharantar_sampled_extracted/aksharantar_sampled/hin/hin_valid.csv', 'r') as f_v:\n",
        "    reader_v = csv.reader(f_v)\n",
        "    for row in reader_v:\n",
        "        latin_word = row[0]\n",
        "        devanagari_word = row[1]\n",
        "        # Convert the Latin word to a tensor of integer indices\n",
        "        latin_indices = word_to_indices(latin_word, max_length_latin,char_to_idx_latin)\n",
        "        devanagari_indices= word_to_indices(devanagari_word,max_length_devanagari ,char_to_idx_lang)\n",
        "        pairs_v.append([latin_indices,devanagari_indices])\n",
        "        # print(devanagari_word, devanagari_indices)\n",
        "        # print(latin_word,latin_indices)\n",
        "        # print('**************************************************')\n"
      ]
    },
    {
      "cell_type": "code",
      "execution_count": 14,
      "metadata": {
        "id": "WE_BvvAbFzji"
      },
      "outputs": [],
      "source": [
        "# pairs_v"
      ]
    },
    {
      "cell_type": "code",
      "execution_count": 15,
      "metadata": {
        "id": "b14fgHBxO78M"
      },
      "outputs": [],
      "source": [
        "train_dataloader = torch.utils.data.DataLoader(pairs, batch_size=64, shuffle=True)\n",
        "val_dataloader = torch.utils.data.DataLoader(pairs_v, batch_size=64, shuffle=False)\n",
        "# wandb_logger = WandbLogger(project=\"Assignment 3 Q1 a\")\n",
        "# a2e6402ce9fe2ebe1f01d5332c4fafa210b0dc0c\n"
      ]
    },
    {
      "cell_type": "code",
      "source": [
        "wandb.login(key=\"a2e6402ce9fe2ebe1f01d5332c4fafa210b0dc0c\")\n",
        "pName = \"Assignment 3 a\"\n",
        "run_obj=wandb.init( project=pName)\n",
        "\n",
        "# Set up the configuration for the sweep using the `wandb.sweep` function\n",
        "sweep_config = {\n",
        "    'method': 'bayes',\n",
        "    'metric': {'name': 'val_accuracy', 'goal': 'maximize'},\n",
        "    'parameters': {\n",
        "        \n",
        "        'drop_out': {\"values\": [0,0.2, 0.3]},\n",
        "\n",
        "        'input_embedding_size': {\"values\": [16,32,64,256]},\n",
        "\n",
        "        'hidden_layer_size': {\"values\": [16,32,64,256]},\n",
        "\n",
        "\n",
        "        'number_of_encoder_layers': {\"values\": [1, 2, 3]},\n",
        "\n",
        "        'number_of_decoder_layers': {\"values\": [1, 2, 3]},\n",
        "\n",
        "\n",
        "        \"cell_type\": {\n",
        "              \"values\": [ \"RNN\", \"GRU\", \"LSTM\"]\n",
        "          },\n",
        "          \n",
        "          \"learning_rate\": {\n",
        "              \"values\": [1e-3, 1e-4]\n",
        "          },\n",
        "       \n",
        "        \"bidirectional\":{\n",
        "            \"values\":[True, False]\n",
        "        },\n",
        "\n",
        "          \"epochs\": {\n",
        "              \"values\": [10, 15, 20]\n",
        "          },\n",
        "    }\n",
        "}"
      ],
      "metadata": {
        "colab": {
          "base_uri": "https://localhost:8080/",
          "height": 173
        },
        "id": "Ix0i3D6UpECV",
        "outputId": "6ff9a8d8-af94-4362-f63d-ca85009fc85c"
      },
      "execution_count": 16,
      "outputs": [
        {
          "output_type": "stream",
          "name": "stderr",
          "text": [
            "\u001b[34m\u001b[1mwandb\u001b[0m: Currently logged in as: \u001b[33mcs22m008\u001b[0m. Use \u001b[1m`wandb login --relogin`\u001b[0m to force relogin\n",
            "\u001b[34m\u001b[1mwandb\u001b[0m: \u001b[33mWARNING\u001b[0m If you're specifying your api key in code, ensure this code is not shared publicly.\n",
            "\u001b[34m\u001b[1mwandb\u001b[0m: \u001b[33mWARNING\u001b[0m Consider setting the WANDB_API_KEY environment variable, or running `wandb login` from the command line.\n",
            "\u001b[34m\u001b[1mwandb\u001b[0m: Appending key for api.wandb.ai to your netrc file: /root/.netrc\n"
          ]
        },
        {
          "output_type": "display_data",
          "data": {
            "text/plain": [
              "<IPython.core.display.HTML object>"
            ],
            "text/html": [
              "Tracking run with wandb version 0.15.0"
            ]
          },
          "metadata": {}
        },
        {
          "output_type": "display_data",
          "data": {
            "text/plain": [
              "<IPython.core.display.HTML object>"
            ],
            "text/html": [
              "Run data is saved locally in <code>/content/wandb/run-20230430_075719-1cag9zgk</code>"
            ]
          },
          "metadata": {}
        },
        {
          "output_type": "display_data",
          "data": {
            "text/plain": [
              "<IPython.core.display.HTML object>"
            ],
            "text/html": [
              "Syncing run <strong><a href='https://wandb.ai/cs22m008/Assignment%203%20a/runs/1cag9zgk' target=\"_blank\">absurd-wood-32</a></strong> to <a href='https://wandb.ai/cs22m008/Assignment%203%20a' target=\"_blank\">Weights & Biases</a> (<a href='https://wandb.me/run' target=\"_blank\">docs</a>)<br/>"
            ]
          },
          "metadata": {}
        },
        {
          "output_type": "display_data",
          "data": {
            "text/plain": [
              "<IPython.core.display.HTML object>"
            ],
            "text/html": [
              " View project at <a href='https://wandb.ai/cs22m008/Assignment%203%20a' target=\"_blank\">https://wandb.ai/cs22m008/Assignment%203%20a</a>"
            ]
          },
          "metadata": {}
        },
        {
          "output_type": "display_data",
          "data": {
            "text/plain": [
              "<IPython.core.display.HTML object>"
            ],
            "text/html": [
              " View run at <a href='https://wandb.ai/cs22m008/Assignment%203%20a/runs/1cag9zgk' target=\"_blank\">https://wandb.ai/cs22m008/Assignment%203%20a/runs/1cag9zgk</a>"
            ]
          },
          "metadata": {}
        }
      ]
    },
    {
      "cell_type": "code",
      "execution_count": 20,
      "metadata": {
        "id": "_K8umwAOWaCQ"
      },
      "outputs": [],
      "source": [
        "import pytorch_lightning as pl\n",
        "import torch\n",
        "import torch.nn as nn\n",
        "import torch.optim as optim\n",
        "import numpy as np\n",
        "\n",
        "class Encoder(nn.Module):\n",
        "    def __init__(self, input_dim, hidden_dim, embedding_size,cell_type,drop_out,num_layers,bidirectional):\n",
        "        super().__init__()\n",
        "        self.hidden_dim = hidden_dim\n",
        "        self.bidirectional = bidirectional\n",
        "        self.embedding = nn.Embedding(input_dim, embedding_size)\n",
        "\n",
        "        if(cell_type==\"GRU\"):\n",
        "          self.rnn = nn.GRU(embedding_size, hidden_dim,dropout=drop_out,num_layers=num_layers,bidirectional=bidirectional)\n",
        "        if(cell_type==\"LSTM\"):\n",
        "          self.rnn = nn.LSTM(embedding_size, hidden_dim,dropout=drop_out,num_layers=num_layers,bidirectional=bidirectional)\n",
        "        if(cell_type==\"RNN\"): \n",
        "          self.rnn = nn.RNN(embedding_size, hidden_dim,dropout=drop_out,num_layers=num_layers,bidirectional=bidirectional)\n",
        "\n",
        "    def forward(self, x):\n",
        "        embedded = self.embedding(x)\n",
        "        output, hidden = self.rnn(embedded)\n",
        "        return hidden\n",
        "\n",
        "class Decoder(nn.Module):\n",
        "    def __init__(self, output_dim, hidden_dim,embedding_size ,cell_type,drop_out,num_layers,bidirectional):\n",
        "        super().__init__()\n",
        "        self.hidden_dim = hidden_dim\n",
        "        self.embedding = nn.Embedding(hidden_dim, embedding_size)\n",
        "        self.bidirectional = bidirectional\n",
        "        D=1\n",
        "        if self.bidirectional:\n",
        "          D=2\n",
        "\n",
        "        if(cell_type==\"GRU\"):\n",
        "          self.rnn = nn.GRU(embedding_size, hidden_dim,dropout=drop_out,num_layers=num_layers ,bidirectional=bidirectional)\n",
        "        elif(cell_type==\"LSTM\"):\n",
        "          self.rnn = nn.LSTM(embedding_size, hidden_dim,dropout=drop_out,num_layers=num_layers,bidirectional=bidirectional)\n",
        "        elif(cell_type==\"RNN\"):\n",
        "          self.rnn = nn.RNN(embedding_size, hidden_dim,dropout=drop_out,num_layers=num_layers,bidirectional=bidirectional)\n",
        "\n",
        "        # self.rnn = nn.GRU(embedding_size, hidden_dim)\n",
        "        # self.rnn = nn.LSTM(hidden_dim, hidden_dim)\n",
        "        # self.rnn = nn.RNN(hidden_dim, hidden_dim)\n",
        "        self.fc = nn.Linear(hidden_dim*D, output_dim)\n",
        "\n",
        "    def forward(self, x, hidden):\n",
        "\n",
        "        x = x.unsqueeze(0)\n",
        "        embedded = self.embedding(x)\n",
        "\n",
        "        output, hidden = self.rnn(embedded, hidden)\n",
        "        prediction = self.fc(output.squeeze(0))\n",
        "        return prediction, hidden\n",
        "\n",
        "class Seq2Seq(pl.LightningModule):\n",
        "    def __init__(self, input_dim, output_dim, hidden_dim,embedding_size, cell_type, drop_out,num_layers_encoders,num_layers_decoders,bidirectional,learning_rate):\n",
        "        super().__init__()\n",
        "\n",
        "        self.val_loss=[]\n",
        "        self.train_loss=[]\n",
        "\n",
        "        self.train_accuracy=[]\n",
        "        self.val_accuracy=[]\n",
        "        self.encoder = Encoder(input_dim, hidden_dim, embedding_size,cell_type,drop_out,num_layers_encoders,bidirectional)\n",
        "        self.decoder = Decoder(output_dim, hidden_dim, embedding_size, cell_type,drop_out,num_layers_decoders,bidirectional)\n",
        "\n",
        "        self.num_layers_encoders=num_layers_encoders\n",
        "        self.num_layers_decoders=num_layers_decoders\n",
        "\n",
        "        self.learning_rate=learning_rate\n",
        "\n",
        "        self.bidirectional = bidirectional\n",
        "        self.D=1\n",
        "        if self.bidirectional:\n",
        "          self.D=2\n",
        "\n",
        "    def forward(self, src, trg,teacher_forcing_ratio=0.5):\n",
        "        batch_size = trg.shape[0]\n",
        "        max_len = trg.shape[1]\n",
        "        trg_vocab_size = self.decoder.fc.out_features\n",
        "        src = src.transpose(0,1)\n",
        "        outputs = torch.zeros(max_len, batch_size, trg_vocab_size).to(self.device)\n",
        "        hidden = self.encoder(src)\n",
        "        # print(\"hidden:::::::::::::::::\",hidden.shape)\n",
        "\n",
        "        if(self.num_layers_encoders>self.num_layers_decoders):\n",
        "          difference=self.num_layers_encoders*self.D-self.num_layers_decoders*self.D\n",
        "          hidden=hidden[difference:]  #from the difference to the last\n",
        "        \n",
        "        if(self.num_layers_encoders<self.num_layers_decoders):\n",
        "          last_hidden = hidden[-self.D:] #.unsqueeze(0)  # Shape: [1, 64, 256]\n",
        "\n",
        "          for i in range(self.num_layers_encoders,self.num_layers_decoders):\n",
        "            hidden = torch.cat([hidden, last_hidden], dim=0)  # Shape: [4, 64, 256]\n",
        "\n",
        "        input = trg[:,0]#start character\n",
        "        for t in range(1, max_len):\n",
        "            output, hidden = self.decoder(input, hidden)\n",
        "            outputs[t] = output\n",
        "            top1 = output.argmax(1)\n",
        "            input = top1 if teacher_forcing_ratio > torch.rand(1).item() else trg[:,t]\n",
        "            #if teacher_forcing_ratio > the random number generated then use the predicted character at the timestep t in timestamp t+1, else use the true value from the target \n",
        "        return outputs\n",
        "\n",
        "    def training_step(self, batch, batch_idx):\n",
        "        src, trg = batch\n",
        "        # print(\"Before forward trg\",trg.shape)\n",
        "        output = self(src, trg)\n",
        "        outputAcc = self(src, trg)\n",
        "        trgAcc=trg \n",
        "\n",
        "        outputAcc = outputAcc.permute(1, 0, 2)\n",
        "    \n",
        "        cols = torch.arange(output.shape[1]).unsqueeze(1)        \n",
        "        rows = torch.arange(output.shape[0])\n",
        "        expected = torch.zeros(size=output.shape)\n",
        "        expected[rows, cols, trg.cpu()] = 1\n",
        "\n",
        "        output_dim = output.shape[-1]\n",
        "        output = output[1:].view(-1, output_dim)\n",
        "        expected = expected[1:].view(-1, output_dim)\n",
        "        trg = trg[1:].view(-1)\n",
        "        train_loss = self.loss_fn(output.to(device), expected.to(device))\n",
        "        # print(\"loss \",loss)\n",
        "        # self.log(\"loss\", loss, prog_bar=True,on_epoch=True)\n",
        "\n",
        "        train_accuracy =self.accuracy(outputAcc, trgAcc)    #trg is the true value\n",
        "        # self.log(\"train_accuracy\", train_accuracy, prog_bar=True,on_epoch=True)\n",
        "        self.train_accuracy.append(torch.tensor(train_accuracy))\n",
        "        self.train_loss.append(torch.tensor(train_loss))\n",
        "\n",
        "        return {'loss': train_loss}\n",
        "\n",
        "    def validation_step(self, batch, batch_idx):\n",
        "\n",
        "        src, trg = batch\n",
        "        output = self(src, trg,0)\n",
        "        outputAcc = self(src, trg,0)\n",
        "        trgAcc=trg\n",
        "\n",
        "        outputAcc = outputAcc.permute(1, 0, 2)\n",
        "\n",
        "        cols = torch.arange(output.shape[1]).unsqueeze(1)\n",
        "        rows = torch.arange(output.shape[0])\n",
        "        expected = torch.zeros(size=output.shape)\n",
        "        expected[rows, cols, trg.cpu()] = 1\n",
        "        output_dim = output.shape[-1]\n",
        "        output = output[1:].view(-1, output_dim)\n",
        "        expected = expected[1:].view(-1, output_dim)\n",
        "        trg = trg[1:].view(-1)\n",
        "\n",
        "\n",
        "        val_loss = self.loss_fn(output.to(device), expected.to(device))\n",
        "\n",
        "        val_accuracy =self.accuracy(outputAcc, trgAcc)    #trg is the true value\n",
        "        # self.log(\"val_accuracy\", val_accuracy, prog_bar=True,on_epoch=True)\n",
        "        self.val_accuracy.append(torch.tensor(val_accuracy))\n",
        "        self.val_loss.append(torch.tensor(val_loss))\n",
        "\n",
        "        return {'loss': val_loss}\n",
        "\n",
        "\n",
        "    def configure_optimizers(self):\n",
        "        optimizer = optim.Adam(self.parameters(), lr=self.learning_rate )\n",
        "        return optimizer\n",
        "\n",
        "    def loss_fn(self, output, trg):\n",
        "        # mask = (trg != self.pad_idx).float()\n",
        "        criterion = nn.CrossEntropyLoss()\n",
        "        # print(\"Loss cal\",output.shape,trg.shape)\n",
        "        loss = criterion(output, trg)\n",
        "        # loss = criterion(output, trg) * mask\n",
        "        return loss.mean()\n",
        "\n",
        "    def accuracy(self, output, target):\n",
        "      \n",
        "      predicted = output.argmax(dim=-1)  # shape: (sequence_length, batch_size)\n",
        "      equal_rows = 0\n",
        "      for i in range(target.size(0)):\n",
        "          # Remove the first and last indices and check if the sliced tensors are equal\n",
        "          if torch.all(torch.eq(target[i, 1:-1], predicted[i, 1:-1])):\n",
        "              equal_rows += 1\n",
        "      matches=equal_rows\n",
        "\n",
        "      # Compute the accuracy\n",
        "      accuracy = matches / len(target) * 100\n",
        "      return accuracy\n",
        "\n",
        "    def on_train_epoch_end(self):\n",
        "\n",
        "      train_loss=torch.stack(self.train_loss).mean()\n",
        "      self.train_loss=[]\n",
        "\n",
        "      val_loss=torch.stack(self.val_loss).mean()\n",
        "      self.val_loss=[]\n",
        "\n",
        "      train_accuracy=torch.stack(self.train_accuracy).mean()\n",
        "      self.train_accuracy=[]\n",
        "\n",
        "\n",
        "      val_accuracy=torch.stack(self.val_accuracy).mean()\n",
        "      self.val_accuracy=[]\n",
        "\n",
        "      # self.log(\"train loss\",train_loss,\"train accuracy\",train_accuracy,\"val loss\",val_loss,\"val accuracy\",val_accuracy)\n",
        "      print(\"train loss: \",train_loss,\"    train accuracy:\",train_accuracy,\"   val loss: \",val_loss,\"    val accuracy: \",val_accuracy)\n",
        "\n",
        "def beam_search(self, encoder_output, encoder_hidden, decoder_input, beam_width):\n",
        "    # Set initial beam\n",
        "    beam = [(decoder_input, 0, encoder_hidden)]\n",
        "\n",
        "    # Iterate through the sequence\n",
        "    for i in range(self.max_seq_len):\n",
        "        new_beam = []\n",
        "        for j in range(len(beam)):\n",
        "            decoder_input = beam[j][0]\n",
        "            decoder_hidden = beam[j][2]\n",
        "\n",
        "            # Run the decoder\n",
        "            decoder_output, decoder_hidden = self.decoder(decoder_input, decoder_hidden, encoder_output)\n",
        "\n",
        "            # Get the top-k most probable tokens\n",
        "            topk_probs, topk_indices = torch.topk(decoder_output, beam_width)\n",
        "\n",
        "            for k in range(beam_width):\n",
        "                # Calculate the new score\n",
        "                score = beam[j][1] + topk_probs[0][k]\n",
        "\n",
        "                # Create a new hypothesis\n",
        "                hypothesis = (\n",
        "                    torch.tensor([topk_indices[0][k]]).to(self.device),\n",
        "                    score,\n",
        "                    decoder_hidden\n",
        "                )\n",
        "\n",
        "                # Add it to the new beam\n",
        "                new_beam.append(hypothesis)\n",
        "\n",
        "        # Select the top-k hypotheses\n",
        "        beam = sorted(new_beam, key=lambda x: x[1], reverse=True)[:beam_width]\n",
        "\n",
        "        # Check if all hypotheses have ended\n",
        "        if all([x[0].item() == self.eos_token_id for x in beam]):\n",
        "            break\n",
        "\n",
        "    # Select the best hypothesis\n",
        "    best_hypothesis = sorted(beam, key=lambda x: x[1], reverse=True)[0]\n",
        "    return best_hypothesis[0]"
      ]
    },
    {
      "cell_type": "code",
      "source": [
        "# def sweep():\n",
        "#     wandb.init()\n",
        "#     config = wandb.config\n",
        "\n",
        "\n",
        "#     # print(config.activation_function,config.batch_normalization,config.data_augmentation,config.filter_organisation, config.drop_out)\n",
        "    \n",
        "#     # obj = CNNModel(config.activation_function,config.batch_normalization,config.data_augmentation,config.filter_organisation, config.drop_out)\n",
        "#     model = Seq2Seq(len(char_to_idx_latin)+2, len(char_to_idx_lang)+2, config.hidden_layer_size, config.input_embedding_size, config.cell_type,config.drop_out,config.number_of_encoder_layers,config.number_of_decoder_layers,config.bidirectional,config.learning_rate)\n",
        "#     model.to(device)\n",
        "#     # trainer = pl.Trainer(max_epochs=config.epochs, accelerator=\"gpu\", devices=1)\n",
        "#     trainer = pl.Trainer(max_epochs=config.epochs)\n",
        "\n",
        "#     trainer.fit(model=model,train_dataloaders=train_dataloader,val_dataloaders=val_dataloader)\n",
        "\n",
        "\n",
        "\n",
        "\n",
        "\n",
        "#     run_name = \"lr_{}_hls_{}_es_{}_ct_{}_nle_{}_do_{}_nld_{}_bd_{}\".format(config.learning_rate, config.hidden_layer_size,config.input_embedding_size,config.cell_type,config.number_of_encoder_layers, config.drop_out, config.number_of_decoder_layers,config.bidirectional)\n",
        "#     print(run_name)\n",
        "#     wandb.run.name = run_name\n",
        "#     wandb.run.save()\n",
        "\n",
        "# # Initialize the WandB sweep\n",
        "# sweep_id = wandb.sweep(sweep_config,project=pName)\n",
        "# wandb.agent(sweep_id, sweep)"
      ],
      "metadata": {
        "id": "JSxU9dgcDk4-"
      },
      "execution_count": 21,
      "outputs": []
    },
    {
      "cell_type": "code",
      "execution_count": 22,
      "metadata": {
        "id": "bYNz4zlxHOmx",
        "colab": {
          "base_uri": "https://localhost:8080/"
        },
        "outputId": "b4852dba-4c16-4b8e-cc15-e40164b4c3bc"
      },
      "outputs": [
        {
          "output_type": "execute_result",
          "data": {
            "text/plain": [
              "Seq2Seq(\n",
              "  (encoder): Encoder(\n",
              "    (embedding): Embedding(29, 256)\n",
              "    (rnn): RNN(256, 256, num_layers=2, dropout=0.2, bidirectional=True)\n",
              "  )\n",
              "  (decoder): Decoder(\n",
              "    (embedding): Embedding(256, 256)\n",
              "    (rnn): RNN(256, 256, num_layers=2, dropout=0.2, bidirectional=True)\n",
              "    (fc): Linear(in_features=512, out_features=67, bias=True)\n",
              "  )\n",
              ")"
            ]
          },
          "metadata": {},
          "execution_count": 22
        }
      ],
      "source": [
        "hidden_layer_size=256\n",
        "embedding_size= 256\n",
        "cell_type=\"RNN\"\n",
        "drop_out=0.2\n",
        "num_layers_encoders=2\n",
        "num_layers_decoders=2\n",
        "bidirectional=True\n",
        "learning_rate=0.0001\n",
        "epochs=10\n",
        "model = Seq2Seq(len(char_to_idx_latin)+2, len(char_to_idx_lang)+2, hidden_layer_size, embedding_size, cell_type,drop_out,num_layers_encoders,num_layers_decoders,bidirectional,learning_rate)\n",
        "model.to(device)"
      ]
    },
    {
      "cell_type": "code",
      "execution_count": 23,
      "metadata": {
        "id": "Q6s3fsYjJWfC",
        "colab": {
          "base_uri": "https://localhost:8080/",
          "height": 381,
          "referenced_widgets": [
            "e789a1b57fee422faba406b6122796b4",
            "bdc6e19ade21436f839212bf0453eae5",
            "cadf183c472448bc913f3ac90be3678e",
            "ca693e00d6a940e59115a0e0d5d36e0c",
            "8788c1d7143a4804957f42ee97a5c65d",
            "a70c44bf19374f15b9861b30fbac5cc8",
            "7191496fc98548e286c0a0e044b06687",
            "82927468175b4cf6a5730341f0bc882b",
            "aeb0c8becb974f038122d033947c203c",
            "e2767bf26f684718b575e5d701f2b9c4",
            "da43d8af6eb1445498ab416402c42f42",
            "90fdd4c5662a49a3aed675ab2762a3d0",
            "ad88e6fcfb2b42efa9313ef1bef861af",
            "32d7d164709e43f9b54d22d9c38fb001",
            "0f5479ffef2942778ee9578f4b4063ee",
            "c99cacc68e0b44728162c1c63594e743",
            "3ae3b2ff963f4f76b46dd2811e8b9ca8",
            "8754dd12a7434043ba76f919f9ee76e1",
            "7f1de175eaf6480e849949d717f16b2b",
            "a26164ce39214a0e99c9f7bb17db52e4",
            "78063a242bf64e329c3502c40ead7715",
            "ceea559b7f894bdabc385c9016f30c90"
          ]
        },
        "outputId": "40d59d11-3ea5-4956-e507-5eefcd82dc57"
      },
      "outputs": [
        {
          "output_type": "stream",
          "name": "stderr",
          "text": [
            "INFO:pytorch_lightning.utilities.rank_zero:GPU available: False, used: False\n",
            "INFO:pytorch_lightning.utilities.rank_zero:TPU available: False, using: 0 TPU cores\n",
            "INFO:pytorch_lightning.utilities.rank_zero:IPU available: False, using: 0 IPUs\n",
            "INFO:pytorch_lightning.utilities.rank_zero:HPU available: False, using: 0 HPUs\n",
            "INFO:pytorch_lightning.callbacks.model_summary:\n",
            "  | Name    | Type    | Params\n",
            "------------------------------------\n",
            "0 | encoder | Encoder | 664 K \n",
            "1 | decoder | Decoder | 757 K \n",
            "------------------------------------\n",
            "1.4 M     Trainable params\n",
            "0         Non-trainable params\n",
            "1.4 M     Total params\n",
            "5.689     Total estimated model params size (MB)\n"
          ]
        },
        {
          "output_type": "display_data",
          "data": {
            "text/plain": [
              "Sanity Checking: 0it [00:00, ?it/s]"
            ],
            "application/vnd.jupyter.widget-view+json": {
              "version_major": 2,
              "version_minor": 0,
              "model_id": "e789a1b57fee422faba406b6122796b4"
            }
          },
          "metadata": {}
        },
        {
          "output_type": "stream",
          "name": "stderr",
          "text": [
            "<ipython-input-20-b5d7f0d29e5c>:160: UserWarning: To copy construct from a tensor, it is recommended to use sourceTensor.clone().detach() or sourceTensor.clone().detach().requires_grad_(True), rather than torch.tensor(sourceTensor).\n",
            "  self.val_loss.append(torch.tensor(val_loss))\n"
          ]
        },
        {
          "output_type": "display_data",
          "data": {
            "text/plain": [
              "Training: 0it [00:00, ?it/s]"
            ],
            "application/vnd.jupyter.widget-view+json": {
              "version_major": 2,
              "version_minor": 0,
              "model_id": "90fdd4c5662a49a3aed675ab2762a3d0"
            }
          },
          "metadata": {}
        },
        {
          "output_type": "stream",
          "name": "stderr",
          "text": [
            "<ipython-input-20-b5d7f0d29e5c>:132: UserWarning: To copy construct from a tensor, it is recommended to use sourceTensor.clone().detach() or sourceTensor.clone().detach().requires_grad_(True), rather than torch.tensor(sourceTensor).\n",
            "  self.train_loss.append(torch.tensor(train_loss))\n"
          ]
        }
      ],
      "source": [
        "trainer = pl.Trainer(max_epochs=epochs)\n",
        "trainer.fit(model=model, train_dataloaders=train_dataloader, val_dataloaders=val_dataloader)"
      ]
    },
    {
      "cell_type": "code",
      "source": [],
      "metadata": {
        "id": "yiiVYEf5Cc4S"
      },
      "execution_count": null,
      "outputs": []
    }
  ],
  "metadata": {
    "colab": {
      "provenance": []
    },
    "kernelspec": {
      "display_name": "Python 3",
      "name": "python3"
    },
    "language_info": {
      "name": "python"
    },
    "widgets": {
      "application/vnd.jupyter.widget-state+json": {
        "e789a1b57fee422faba406b6122796b4": {
          "model_module": "@jupyter-widgets/controls",
          "model_name": "HBoxModel",
          "model_module_version": "1.5.0",
          "state": {
            "_dom_classes": [],
            "_model_module": "@jupyter-widgets/controls",
            "_model_module_version": "1.5.0",
            "_model_name": "HBoxModel",
            "_view_count": null,
            "_view_module": "@jupyter-widgets/controls",
            "_view_module_version": "1.5.0",
            "_view_name": "HBoxView",
            "box_style": "",
            "children": [
              "IPY_MODEL_bdc6e19ade21436f839212bf0453eae5",
              "IPY_MODEL_cadf183c472448bc913f3ac90be3678e",
              "IPY_MODEL_ca693e00d6a940e59115a0e0d5d36e0c"
            ],
            "layout": "IPY_MODEL_8788c1d7143a4804957f42ee97a5c65d"
          }
        },
        "bdc6e19ade21436f839212bf0453eae5": {
          "model_module": "@jupyter-widgets/controls",
          "model_name": "HTMLModel",
          "model_module_version": "1.5.0",
          "state": {
            "_dom_classes": [],
            "_model_module": "@jupyter-widgets/controls",
            "_model_module_version": "1.5.0",
            "_model_name": "HTMLModel",
            "_view_count": null,
            "_view_module": "@jupyter-widgets/controls",
            "_view_module_version": "1.5.0",
            "_view_name": "HTMLView",
            "description": "",
            "description_tooltip": null,
            "layout": "IPY_MODEL_a70c44bf19374f15b9861b30fbac5cc8",
            "placeholder": "​",
            "style": "IPY_MODEL_7191496fc98548e286c0a0e044b06687",
            "value": "Sanity Checking DataLoader 0: 100%"
          }
        },
        "cadf183c472448bc913f3ac90be3678e": {
          "model_module": "@jupyter-widgets/controls",
          "model_name": "FloatProgressModel",
          "model_module_version": "1.5.0",
          "state": {
            "_dom_classes": [],
            "_model_module": "@jupyter-widgets/controls",
            "_model_module_version": "1.5.0",
            "_model_name": "FloatProgressModel",
            "_view_count": null,
            "_view_module": "@jupyter-widgets/controls",
            "_view_module_version": "1.5.0",
            "_view_name": "ProgressView",
            "bar_style": "",
            "description": "",
            "description_tooltip": null,
            "layout": "IPY_MODEL_82927468175b4cf6a5730341f0bc882b",
            "max": 2,
            "min": 0,
            "orientation": "horizontal",
            "style": "IPY_MODEL_aeb0c8becb974f038122d033947c203c",
            "value": 2
          }
        },
        "ca693e00d6a940e59115a0e0d5d36e0c": {
          "model_module": "@jupyter-widgets/controls",
          "model_name": "HTMLModel",
          "model_module_version": "1.5.0",
          "state": {
            "_dom_classes": [],
            "_model_module": "@jupyter-widgets/controls",
            "_model_module_version": "1.5.0",
            "_model_name": "HTMLModel",
            "_view_count": null,
            "_view_module": "@jupyter-widgets/controls",
            "_view_module_version": "1.5.0",
            "_view_name": "HTMLView",
            "description": "",
            "description_tooltip": null,
            "layout": "IPY_MODEL_e2767bf26f684718b575e5d701f2b9c4",
            "placeholder": "​",
            "style": "IPY_MODEL_da43d8af6eb1445498ab416402c42f42",
            "value": " 2/2 [00:00&lt;00:00,  2.81it/s]"
          }
        },
        "8788c1d7143a4804957f42ee97a5c65d": {
          "model_module": "@jupyter-widgets/base",
          "model_name": "LayoutModel",
          "model_module_version": "1.2.0",
          "state": {
            "_model_module": "@jupyter-widgets/base",
            "_model_module_version": "1.2.0",
            "_model_name": "LayoutModel",
            "_view_count": null,
            "_view_module": "@jupyter-widgets/base",
            "_view_module_version": "1.2.0",
            "_view_name": "LayoutView",
            "align_content": null,
            "align_items": null,
            "align_self": null,
            "border": null,
            "bottom": null,
            "display": "inline-flex",
            "flex": null,
            "flex_flow": "row wrap",
            "grid_area": null,
            "grid_auto_columns": null,
            "grid_auto_flow": null,
            "grid_auto_rows": null,
            "grid_column": null,
            "grid_gap": null,
            "grid_row": null,
            "grid_template_areas": null,
            "grid_template_columns": null,
            "grid_template_rows": null,
            "height": null,
            "justify_content": null,
            "justify_items": null,
            "left": null,
            "margin": null,
            "max_height": null,
            "max_width": null,
            "min_height": null,
            "min_width": null,
            "object_fit": null,
            "object_position": null,
            "order": null,
            "overflow": null,
            "overflow_x": null,
            "overflow_y": null,
            "padding": null,
            "right": null,
            "top": null,
            "visibility": "hidden",
            "width": "100%"
          }
        },
        "a70c44bf19374f15b9861b30fbac5cc8": {
          "model_module": "@jupyter-widgets/base",
          "model_name": "LayoutModel",
          "model_module_version": "1.2.0",
          "state": {
            "_model_module": "@jupyter-widgets/base",
            "_model_module_version": "1.2.0",
            "_model_name": "LayoutModel",
            "_view_count": null,
            "_view_module": "@jupyter-widgets/base",
            "_view_module_version": "1.2.0",
            "_view_name": "LayoutView",
            "align_content": null,
            "align_items": null,
            "align_self": null,
            "border": null,
            "bottom": null,
            "display": null,
            "flex": null,
            "flex_flow": null,
            "grid_area": null,
            "grid_auto_columns": null,
            "grid_auto_flow": null,
            "grid_auto_rows": null,
            "grid_column": null,
            "grid_gap": null,
            "grid_row": null,
            "grid_template_areas": null,
            "grid_template_columns": null,
            "grid_template_rows": null,
            "height": null,
            "justify_content": null,
            "justify_items": null,
            "left": null,
            "margin": null,
            "max_height": null,
            "max_width": null,
            "min_height": null,
            "min_width": null,
            "object_fit": null,
            "object_position": null,
            "order": null,
            "overflow": null,
            "overflow_x": null,
            "overflow_y": null,
            "padding": null,
            "right": null,
            "top": null,
            "visibility": null,
            "width": null
          }
        },
        "7191496fc98548e286c0a0e044b06687": {
          "model_module": "@jupyter-widgets/controls",
          "model_name": "DescriptionStyleModel",
          "model_module_version": "1.5.0",
          "state": {
            "_model_module": "@jupyter-widgets/controls",
            "_model_module_version": "1.5.0",
            "_model_name": "DescriptionStyleModel",
            "_view_count": null,
            "_view_module": "@jupyter-widgets/base",
            "_view_module_version": "1.2.0",
            "_view_name": "StyleView",
            "description_width": ""
          }
        },
        "82927468175b4cf6a5730341f0bc882b": {
          "model_module": "@jupyter-widgets/base",
          "model_name": "LayoutModel",
          "model_module_version": "1.2.0",
          "state": {
            "_model_module": "@jupyter-widgets/base",
            "_model_module_version": "1.2.0",
            "_model_name": "LayoutModel",
            "_view_count": null,
            "_view_module": "@jupyter-widgets/base",
            "_view_module_version": "1.2.0",
            "_view_name": "LayoutView",
            "align_content": null,
            "align_items": null,
            "align_self": null,
            "border": null,
            "bottom": null,
            "display": null,
            "flex": "2",
            "flex_flow": null,
            "grid_area": null,
            "grid_auto_columns": null,
            "grid_auto_flow": null,
            "grid_auto_rows": null,
            "grid_column": null,
            "grid_gap": null,
            "grid_row": null,
            "grid_template_areas": null,
            "grid_template_columns": null,
            "grid_template_rows": null,
            "height": null,
            "justify_content": null,
            "justify_items": null,
            "left": null,
            "margin": null,
            "max_height": null,
            "max_width": null,
            "min_height": null,
            "min_width": null,
            "object_fit": null,
            "object_position": null,
            "order": null,
            "overflow": null,
            "overflow_x": null,
            "overflow_y": null,
            "padding": null,
            "right": null,
            "top": null,
            "visibility": null,
            "width": null
          }
        },
        "aeb0c8becb974f038122d033947c203c": {
          "model_module": "@jupyter-widgets/controls",
          "model_name": "ProgressStyleModel",
          "model_module_version": "1.5.0",
          "state": {
            "_model_module": "@jupyter-widgets/controls",
            "_model_module_version": "1.5.0",
            "_model_name": "ProgressStyleModel",
            "_view_count": null,
            "_view_module": "@jupyter-widgets/base",
            "_view_module_version": "1.2.0",
            "_view_name": "StyleView",
            "bar_color": null,
            "description_width": ""
          }
        },
        "e2767bf26f684718b575e5d701f2b9c4": {
          "model_module": "@jupyter-widgets/base",
          "model_name": "LayoutModel",
          "model_module_version": "1.2.0",
          "state": {
            "_model_module": "@jupyter-widgets/base",
            "_model_module_version": "1.2.0",
            "_model_name": "LayoutModel",
            "_view_count": null,
            "_view_module": "@jupyter-widgets/base",
            "_view_module_version": "1.2.0",
            "_view_name": "LayoutView",
            "align_content": null,
            "align_items": null,
            "align_self": null,
            "border": null,
            "bottom": null,
            "display": null,
            "flex": null,
            "flex_flow": null,
            "grid_area": null,
            "grid_auto_columns": null,
            "grid_auto_flow": null,
            "grid_auto_rows": null,
            "grid_column": null,
            "grid_gap": null,
            "grid_row": null,
            "grid_template_areas": null,
            "grid_template_columns": null,
            "grid_template_rows": null,
            "height": null,
            "justify_content": null,
            "justify_items": null,
            "left": null,
            "margin": null,
            "max_height": null,
            "max_width": null,
            "min_height": null,
            "min_width": null,
            "object_fit": null,
            "object_position": null,
            "order": null,
            "overflow": null,
            "overflow_x": null,
            "overflow_y": null,
            "padding": null,
            "right": null,
            "top": null,
            "visibility": null,
            "width": null
          }
        },
        "da43d8af6eb1445498ab416402c42f42": {
          "model_module": "@jupyter-widgets/controls",
          "model_name": "DescriptionStyleModel",
          "model_module_version": "1.5.0",
          "state": {
            "_model_module": "@jupyter-widgets/controls",
            "_model_module_version": "1.5.0",
            "_model_name": "DescriptionStyleModel",
            "_view_count": null,
            "_view_module": "@jupyter-widgets/base",
            "_view_module_version": "1.2.0",
            "_view_name": "StyleView",
            "description_width": ""
          }
        },
        "90fdd4c5662a49a3aed675ab2762a3d0": {
          "model_module": "@jupyter-widgets/controls",
          "model_name": "HBoxModel",
          "model_module_version": "1.5.0",
          "state": {
            "_dom_classes": [],
            "_model_module": "@jupyter-widgets/controls",
            "_model_module_version": "1.5.0",
            "_model_name": "HBoxModel",
            "_view_count": null,
            "_view_module": "@jupyter-widgets/controls",
            "_view_module_version": "1.5.0",
            "_view_name": "HBoxView",
            "box_style": "",
            "children": [
              "IPY_MODEL_ad88e6fcfb2b42efa9313ef1bef861af",
              "IPY_MODEL_32d7d164709e43f9b54d22d9c38fb001",
              "IPY_MODEL_0f5479ffef2942778ee9578f4b4063ee"
            ],
            "layout": "IPY_MODEL_c99cacc68e0b44728162c1c63594e743"
          }
        },
        "ad88e6fcfb2b42efa9313ef1bef861af": {
          "model_module": "@jupyter-widgets/controls",
          "model_name": "HTMLModel",
          "model_module_version": "1.5.0",
          "state": {
            "_dom_classes": [],
            "_model_module": "@jupyter-widgets/controls",
            "_model_module_version": "1.5.0",
            "_model_name": "HTMLModel",
            "_view_count": null,
            "_view_module": "@jupyter-widgets/controls",
            "_view_module_version": "1.5.0",
            "_view_name": "HTMLView",
            "description": "",
            "description_tooltip": null,
            "layout": "IPY_MODEL_3ae3b2ff963f4f76b46dd2811e8b9ca8",
            "placeholder": "​",
            "style": "IPY_MODEL_8754dd12a7434043ba76f919f9ee76e1",
            "value": "Epoch 0:  19%"
          }
        },
        "32d7d164709e43f9b54d22d9c38fb001": {
          "model_module": "@jupyter-widgets/controls",
          "model_name": "FloatProgressModel",
          "model_module_version": "1.5.0",
          "state": {
            "_dom_classes": [],
            "_model_module": "@jupyter-widgets/controls",
            "_model_module_version": "1.5.0",
            "_model_name": "FloatProgressModel",
            "_view_count": null,
            "_view_module": "@jupyter-widgets/controls",
            "_view_module_version": "1.5.0",
            "_view_name": "ProgressView",
            "bar_style": "",
            "description": "",
            "description_tooltip": null,
            "layout": "IPY_MODEL_7f1de175eaf6480e849949d717f16b2b",
            "max": 800,
            "min": 0,
            "orientation": "horizontal",
            "style": "IPY_MODEL_a26164ce39214a0e99c9f7bb17db52e4",
            "value": 155
          }
        },
        "0f5479ffef2942778ee9578f4b4063ee": {
          "model_module": "@jupyter-widgets/controls",
          "model_name": "HTMLModel",
          "model_module_version": "1.5.0",
          "state": {
            "_dom_classes": [],
            "_model_module": "@jupyter-widgets/controls",
            "_model_module_version": "1.5.0",
            "_model_name": "HTMLModel",
            "_view_count": null,
            "_view_module": "@jupyter-widgets/controls",
            "_view_module_version": "1.5.0",
            "_view_name": "HTMLView",
            "description": "",
            "description_tooltip": null,
            "layout": "IPY_MODEL_78063a242bf64e329c3502c40ead7715",
            "placeholder": "​",
            "style": "IPY_MODEL_ceea559b7f894bdabc385c9016f30c90",
            "value": " 155/800 [01:31&lt;06:22,  1.69it/s, v_num=17]"
          }
        },
        "c99cacc68e0b44728162c1c63594e743": {
          "model_module": "@jupyter-widgets/base",
          "model_name": "LayoutModel",
          "model_module_version": "1.2.0",
          "state": {
            "_model_module": "@jupyter-widgets/base",
            "_model_module_version": "1.2.0",
            "_model_name": "LayoutModel",
            "_view_count": null,
            "_view_module": "@jupyter-widgets/base",
            "_view_module_version": "1.2.0",
            "_view_name": "LayoutView",
            "align_content": null,
            "align_items": null,
            "align_self": null,
            "border": null,
            "bottom": null,
            "display": "inline-flex",
            "flex": null,
            "flex_flow": "row wrap",
            "grid_area": null,
            "grid_auto_columns": null,
            "grid_auto_flow": null,
            "grid_auto_rows": null,
            "grid_column": null,
            "grid_gap": null,
            "grid_row": null,
            "grid_template_areas": null,
            "grid_template_columns": null,
            "grid_template_rows": null,
            "height": null,
            "justify_content": null,
            "justify_items": null,
            "left": null,
            "margin": null,
            "max_height": null,
            "max_width": null,
            "min_height": null,
            "min_width": null,
            "object_fit": null,
            "object_position": null,
            "order": null,
            "overflow": null,
            "overflow_x": null,
            "overflow_y": null,
            "padding": null,
            "right": null,
            "top": null,
            "visibility": null,
            "width": "100%"
          }
        },
        "3ae3b2ff963f4f76b46dd2811e8b9ca8": {
          "model_module": "@jupyter-widgets/base",
          "model_name": "LayoutModel",
          "model_module_version": "1.2.0",
          "state": {
            "_model_module": "@jupyter-widgets/base",
            "_model_module_version": "1.2.0",
            "_model_name": "LayoutModel",
            "_view_count": null,
            "_view_module": "@jupyter-widgets/base",
            "_view_module_version": "1.2.0",
            "_view_name": "LayoutView",
            "align_content": null,
            "align_items": null,
            "align_self": null,
            "border": null,
            "bottom": null,
            "display": null,
            "flex": null,
            "flex_flow": null,
            "grid_area": null,
            "grid_auto_columns": null,
            "grid_auto_flow": null,
            "grid_auto_rows": null,
            "grid_column": null,
            "grid_gap": null,
            "grid_row": null,
            "grid_template_areas": null,
            "grid_template_columns": null,
            "grid_template_rows": null,
            "height": null,
            "justify_content": null,
            "justify_items": null,
            "left": null,
            "margin": null,
            "max_height": null,
            "max_width": null,
            "min_height": null,
            "min_width": null,
            "object_fit": null,
            "object_position": null,
            "order": null,
            "overflow": null,
            "overflow_x": null,
            "overflow_y": null,
            "padding": null,
            "right": null,
            "top": null,
            "visibility": null,
            "width": null
          }
        },
        "8754dd12a7434043ba76f919f9ee76e1": {
          "model_module": "@jupyter-widgets/controls",
          "model_name": "DescriptionStyleModel",
          "model_module_version": "1.5.0",
          "state": {
            "_model_module": "@jupyter-widgets/controls",
            "_model_module_version": "1.5.0",
            "_model_name": "DescriptionStyleModel",
            "_view_count": null,
            "_view_module": "@jupyter-widgets/base",
            "_view_module_version": "1.2.0",
            "_view_name": "StyleView",
            "description_width": ""
          }
        },
        "7f1de175eaf6480e849949d717f16b2b": {
          "model_module": "@jupyter-widgets/base",
          "model_name": "LayoutModel",
          "model_module_version": "1.2.0",
          "state": {
            "_model_module": "@jupyter-widgets/base",
            "_model_module_version": "1.2.0",
            "_model_name": "LayoutModel",
            "_view_count": null,
            "_view_module": "@jupyter-widgets/base",
            "_view_module_version": "1.2.0",
            "_view_name": "LayoutView",
            "align_content": null,
            "align_items": null,
            "align_self": null,
            "border": null,
            "bottom": null,
            "display": null,
            "flex": "2",
            "flex_flow": null,
            "grid_area": null,
            "grid_auto_columns": null,
            "grid_auto_flow": null,
            "grid_auto_rows": null,
            "grid_column": null,
            "grid_gap": null,
            "grid_row": null,
            "grid_template_areas": null,
            "grid_template_columns": null,
            "grid_template_rows": null,
            "height": null,
            "justify_content": null,
            "justify_items": null,
            "left": null,
            "margin": null,
            "max_height": null,
            "max_width": null,
            "min_height": null,
            "min_width": null,
            "object_fit": null,
            "object_position": null,
            "order": null,
            "overflow": null,
            "overflow_x": null,
            "overflow_y": null,
            "padding": null,
            "right": null,
            "top": null,
            "visibility": null,
            "width": null
          }
        },
        "a26164ce39214a0e99c9f7bb17db52e4": {
          "model_module": "@jupyter-widgets/controls",
          "model_name": "ProgressStyleModel",
          "model_module_version": "1.5.0",
          "state": {
            "_model_module": "@jupyter-widgets/controls",
            "_model_module_version": "1.5.0",
            "_model_name": "ProgressStyleModel",
            "_view_count": null,
            "_view_module": "@jupyter-widgets/base",
            "_view_module_version": "1.2.0",
            "_view_name": "StyleView",
            "bar_color": null,
            "description_width": ""
          }
        },
        "78063a242bf64e329c3502c40ead7715": {
          "model_module": "@jupyter-widgets/base",
          "model_name": "LayoutModel",
          "model_module_version": "1.2.0",
          "state": {
            "_model_module": "@jupyter-widgets/base",
            "_model_module_version": "1.2.0",
            "_model_name": "LayoutModel",
            "_view_count": null,
            "_view_module": "@jupyter-widgets/base",
            "_view_module_version": "1.2.0",
            "_view_name": "LayoutView",
            "align_content": null,
            "align_items": null,
            "align_self": null,
            "border": null,
            "bottom": null,
            "display": null,
            "flex": null,
            "flex_flow": null,
            "grid_area": null,
            "grid_auto_columns": null,
            "grid_auto_flow": null,
            "grid_auto_rows": null,
            "grid_column": null,
            "grid_gap": null,
            "grid_row": null,
            "grid_template_areas": null,
            "grid_template_columns": null,
            "grid_template_rows": null,
            "height": null,
            "justify_content": null,
            "justify_items": null,
            "left": null,
            "margin": null,
            "max_height": null,
            "max_width": null,
            "min_height": null,
            "min_width": null,
            "object_fit": null,
            "object_position": null,
            "order": null,
            "overflow": null,
            "overflow_x": null,
            "overflow_y": null,
            "padding": null,
            "right": null,
            "top": null,
            "visibility": null,
            "width": null
          }
        },
        "ceea559b7f894bdabc385c9016f30c90": {
          "model_module": "@jupyter-widgets/controls",
          "model_name": "DescriptionStyleModel",
          "model_module_version": "1.5.0",
          "state": {
            "_model_module": "@jupyter-widgets/controls",
            "_model_module_version": "1.5.0",
            "_model_name": "DescriptionStyleModel",
            "_view_count": null,
            "_view_module": "@jupyter-widgets/base",
            "_view_module_version": "1.2.0",
            "_view_name": "StyleView",
            "description_width": ""
          }
        }
      }
    },
    "accelerator": "GPU",
    "gpuClass": "standard"
  },
  "nbformat": 4,
  "nbformat_minor": 0
}